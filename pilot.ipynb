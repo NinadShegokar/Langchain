{
 "cells": [
  {
   "cell_type": "code",
   "execution_count": null,
   "metadata": {},
   "outputs": [],
   "source": [
    "import os\n",
    "import dotenv\n",
    "\n",
    "dotenv.load_dotenv()\n",
    "openai_api_key = os.getenv(\"OPENAI_API_KEY\")\n"
   ]
  },
  {
   "cell_type": "code",
   "execution_count": null,
   "metadata": {},
   "outputs": [],
   "source": [
    "from langchain.chains.combine_documents.stuff import StuffDocumentsChain\n",
    "from langchain.chains import MapReduceChain, MapReduceDocumentsChain\n",
    "from langchain.chains.llm import LLMChain\n",
    "#HuggingFacePipeline\n",
    "from langchain.chat_models import ChatOpenAI #\n",
    "from langchain.chains.llm import load_summarize_chain\n",
    "from langchain_core.prompts import PromptTemplate\n",
    "from langchain_community.document_loaders import PyPDFLoader\n",
    "# Transformers- AutoModel, AutoTokenizer, AutoModelForCausalLM\n",
    "\n",
    "#tokenizer = AutoTokenizer.from_pretrain(\"model_name\")\n",
    "#model = AutoModelForCausalLM.from_pretrained(\"model_name\")\n",
    "\n",
    "loader = PyPDFLoader(\"Schizophrenia.pdf\")\n",
    "document = loader.load()\n",
    "pages = loader.load_and_split()\n",
    "\n",
    "docs = []\n",
    "for page_num, page_text in enumerate(pages, start=1):\n",
    "    docs.append(page_text)\n",
    "\n",
    "# Define prompt template\n",
    "prompt_template = \"\"\"Write a concise summary of the following:\n",
    "```{text}```\n",
    "CONCISE SUMMARY:\"\"\"\n",
    "\n",
    "prompt = PromptTemplate.from_template(prompt_template)\n",
    "\n",
    "#llm = ChatOpenAI(temperature=0, model_name=\"gpt-3.5-turbo-16k\")\n",
    "#pipeline - transformers\n",
    "#llm = HuggingFacePipeline(model, ...)\n",
    "llm_chain = LLMChain(llm=llm, prompt=prompt)\n",
    "\n",
    "#MapReduceChain\n",
    "stuff_chain = StuffDocumentsChain(llm_chain=llm_chain, document_variable_name=\"text\")\n",
    "summary = stuff_chain.run(docs)\n",
    "\n",
    "print(summary)\n"
   ]
  }
 ],
 "metadata": {
  "kernelspec": {
   "display_name": "Python 3",
   "language": "python",
   "name": "python3"
  },
  "language_info": {
   "codemirror_mode": {
    "name": "ipython",
    "version": 3
   },
   "file_extension": ".py",
   "mimetype": "text/x-python",
   "name": "python",
   "nbconvert_exporter": "python",
   "pygments_lexer": "ipython3",
   "version": "3.12.2"
  }
 },
 "nbformat": 4,
 "nbformat_minor": 2
}
