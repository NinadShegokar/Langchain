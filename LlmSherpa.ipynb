{
  "nbformat": 4,
  "nbformat_minor": 0,
  "metadata": {
    "colab": {
      "provenance": [],
      "authorship_tag": "ABX9TyNcL0bu2h1JD4dDlhkmnVUx",
      "include_colab_link": true
    },
    "kernelspec": {
      "name": "python3",
      "display_name": "Python 3"
    },
    "language_info": {
      "name": "python"
    }
  },
  "cells": [
    {
      "cell_type": "markdown",
      "metadata": {
        "id": "view-in-github",
        "colab_type": "text"
      },
      "source": [
        "<a href=\"https://colab.research.google.com/github/NinadShegokar/Langchain/blob/main/LlmSherpa.ipynb\" target=\"_parent\"><img src=\"https://colab.research.google.com/assets/colab-badge.svg\" alt=\"Open In Colab\"/></a>"
      ]
    },
    {
      "cell_type": "code",
      "execution_count": 2,
      "metadata": {
        "id": "BU8vy316U8cE"
      },
      "outputs": [],
      "source": [
        "!pip install -U langchain scikit-learn langchain_community tiktoken langchain-openai langchainhub chromadb  sentence-transformers   llama-cpp-python\n",
        "!pip install pypdf dspy-ai fpdf llmsherpa\n",
        "\n",
        "from IPython.display import clear_output\n",
        "clear_output()"
      ]
    },
    {
      "cell_type": "code",
      "source": [
        "#imports\n",
        "import langchain\n",
        "from torch import cuda, bfloat16\n",
        "from fpdf import FPDF\n",
        "import torch\n",
        "import transformers\n",
        "from transformers import AutoTokenizer\n",
        "from time import time\n",
        "from langchain.chains.summarize import load_summarize_chain\n",
        "from langchain.llms import HuggingFacePipeline\n",
        "from langchain.document_loaders import TextLoader,PyPDFLoader, DirectoryLoader\n",
        "from langchain.text_splitter import RecursiveCharacterTextSplitter\n",
        "from langchain.embeddings import HuggingFaceEmbeddings\n",
        "from langchain.chains import MapReduceDocumentsChain, ReduceDocumentsChain,ConversationalRetrievalChain,StuffDocumentsChain\n",
        "from langchain.text_splitter import CharacterTextSplitter\n",
        "from langchain.llms import CTransformers\n",
        "from langchain.vectorstores import FAISS\n",
        "from langchain.memory import ConversationBufferMemory\n",
        "from langchain.callbacks.streaming_stdout import StreamingStdOutCallbackHandler\n",
        "from langchain import PromptTemplate, LLMChain\n",
        "from langchain_community.llms import LlamaCpp\n",
        "from langchain_core.callbacks import CallbackManager, StreamingStdOutCallbackHandler\n",
        "from langchain_core.prompts import PromptTemplate\n",
        "from langchain.vectorstores import Chroma\n",
        "from langchain_community.embeddings import HuggingFaceEmbeddings\n",
        "from langchain_community.vectorstores.utils import DistanceStrategy"
      ],
      "metadata": {
        "id": "Ha0Nca6mVGsb"
      },
      "execution_count": 3,
      "outputs": []
    },
    {
      "cell_type": "code",
      "source": [
        "from langchain_community.document_loaders.llmsherpa import LLMSherpaFileLoader\n",
        "\n",
        "loader = LLMSherpaFileLoader(\n",
        "    file_path=\"/content/Schizophrenia.pdf\",\n",
        "    new_indent_parser=True,\n",
        "    apply_ocr=True,\n",
        "    strategy=\"text\",\n",
        "    llmsherpa_api_url=\"https://readers.llmsherpa.com/api/document/developer/parseDocument?renderFormat=all\",\n",
        ")\n",
        "docs = loader.load()"
      ],
      "metadata": {
        "id": "wWSGvLF6YIFc"
      },
      "execution_count": 6,
      "outputs": []
    },
    {
      "cell_type": "code",
      "source": [
        "text_splitter = CharacterTextSplitter.from_tiktoken_encoder(\n",
        "        chunk_size=1000, chunk_overlap=100\n",
        "    )\n",
        "split_docs = text_splitter.split_documents(docs)"
      ],
      "metadata": {
        "id": "idIVhlOvYhLU"
      },
      "execution_count": 7,
      "outputs": []
    },
    {
      "cell_type": "code",
      "source": [
        "!wget \"https://huggingface.co/TheBloke/zephyr-7B-beta-GGUF/resolve/main/zephyr-7b-beta.Q4_K_M.gguf\"\n",
        "clear_output()"
      ],
      "metadata": {
        "id": "K5TPxqsUZt9a"
      },
      "execution_count": 8,
      "outputs": []
    },
    {
      "cell_type": "code",
      "source": [
        "llm = LlamaCpp(\n",
        "    model_path=\"/content/zephyr-7b-beta.Q4_K_M.gguf\",\n",
        "    temperature=0.75,\n",
        "    max_tokens=1000,\n",
        "    top_p=1,\n",
        "    n_ctx=35000,\n",
        "    verbose=True,  # Verbose is required to pass to the callback manager\n",
        ")\n",
        "EMBEDDING_MODEL_NAME = \"thenlper/gte-small\"\n",
        "\n",
        "embd = HuggingFaceEmbeddings(\n",
        "    model_name=EMBEDDING_MODEL_NAME\n",
        ")\n",
        "clear_output()"
      ],
      "metadata": {
        "id": "NndELToVZw2V"
      },
      "execution_count": 9,
      "outputs": []
    },
    {
      "cell_type": "code",
      "source": [
        "map_prompt = \"\"\"\n",
        "Write a concise summary of the following:\n",
        "\"{text}\"\n",
        "CONCISE SUMMARY:\n",
        "\"\"\"\n",
        "map_prompt_template = PromptTemplate(template=map_prompt, input_variables=[\"docs\"])"
      ],
      "metadata": {
        "id": "skZ4cCJKZ6KR"
      },
      "execution_count": 10,
      "outputs": []
    },
    {
      "cell_type": "code",
      "source": [
        "combine_prompt = \"\"\"\n",
        "Write a concise summary of the following text delimited by triple backquotes.\n",
        "Return your response in bullet points which covers the key points of the text.\n",
        "```{text}```\n",
        "BULLET POINT SUMMARY:\n",
        "\"\"\"\n",
        "combine_prompt_template = PromptTemplate(template=combine_prompt, input_variables=[\"docs\"])"
      ],
      "metadata": {
        "id": "K0MlhtjCZ-wE"
      },
      "execution_count": 11,
      "outputs": []
    },
    {
      "cell_type": "code",
      "source": [
        "summary_chain = load_summarize_chain(llm=llm,\n",
        "                                     chain_type='map_reduce',\n",
        "                                     map_prompt=map_prompt_template,\n",
        "                                     combine_prompt=combine_prompt_template,\n",
        "                                     verbose=True\n",
        "                                    )"
      ],
      "metadata": {
        "id": "_itaTymiaCB5"
      },
      "execution_count": 12,
      "outputs": []
    },
    {
      "cell_type": "code",
      "source": [
        "output = summary_chain.run(docs)"
      ],
      "metadata": {
        "colab": {
          "base_uri": "https://localhost:8080/"
        },
        "id": "Clnrrf9raEST",
        "outputId": "27441d5b-b53b-426c-b98c-2d1c425f9450"
      },
      "execution_count": 13,
      "outputs": [
        {
          "output_type": "stream",
          "name": "stderr",
          "text": [
            "/usr/local/lib/python3.10/dist-packages/langchain_core/_api/deprecation.py:117: LangChainDeprecationWarning: The function `run` was deprecated in LangChain 0.1.0 and will be removed in 0.2.0. Use invoke instead.\n",
            "  warn_deprecated(\n"
          ]
        },
        {
          "output_type": "stream",
          "name": "stdout",
          "text": [
            "\n",
            "\n",
            "\u001b[1m> Entering new MapReduceDocumentsChain chain...\u001b[0m\n",
            "\n",
            "\n",
            "\u001b[1m> Entering new LLMChain chain...\u001b[0m\n",
            "Prompt after formatting:\n",
            "\u001b[32;1m\u001b[1;3m\n",
            "Write a concise summary of the following:\n",
            "\"Symptoms\n",
            "Schizophrenia is characterised by significant impairments in the way reality is perceived and changes in behaviour related to: persistent delusions: the person has fixed beliefs that something is true, despite evidence to the contrary; persistent hallucinations: the person may hear, smell, see, touch, or feel things that are not there; experiences of influence, control or passivity: the experience that one’s feelings, impulses, actions, or thoughts are not generated by oneself, are being placed in one’s mind or withdrawn from one’s mind by others, or that one’s thoughts are being broadcast to others; disorganized thinking, which is often observed as jumbled or irrelevant speech; highly disorganised behaviour e.g.\n",
            "the person does things that appear bizarre or purposeless, or the person has unpredictable or inappropriate emotional responses that interfere with their ability to organise their behaviour; “Negative symptoms” such as very limited speech, restricted experience and expression of emotions, inability to experience interest or pleasure, and social withdrawal; and/or extreme agitation or slowing of movements, maintenance of unusual postures.\n",
            "People with schizophrenia often also experience persistent difficulties with their cognitive or thinking skills, such as memory, attention, and problem-solving.\n",
            "At least one third of people with schizophrenia experiences complete remission of symptoms (1).\n",
            "Some people with schizophrenia experience worsening and remission of symptoms periodically throughout their lives, others a gradual worsening of symptoms over time.\n",
            "Magnitude and impact Schizophrenia affects approximately 24 million people or 1 in 300 people (0.32%) worldwide.\n",
            "This rate is 1 in 222 people (0.45%) among adults (2).\n",
            "It is not as common as many other mental disorders.\n",
            "Onset is most often during late adolescence and the twenties, and onset tends to happen earlier among men than among women.\n",
            "Schizophrenia is frequently associated with significant distress and impairment in personal, family, social, educational, occupational, and other important areas of life.\n",
            "People with schizophrenia are 2 to 3 times more likely to die early than the general population (3).\n",
            "This is often due to physical illnesses, such as cardiovascular, metabolic, and infectious diseases.\n",
            "People with schizophrenia often experience human rights violations both inside mental health institutions and in community settings.\n",
            "Stigma against people with this condition is intense and widespread, causing social exclusion, and impacting their relationships with others, including family and friends.\n",
            "This contributes to discrimination, which in turn can limit access to general health care, education, housing, and employment.\n",
            "During humanitarian and public health emergencies, extreme stress and fear, breakdown of social supports, isolation and disruption of health-care services and supply of medication can occur.\n",
            "These changes can have an impact on the lives of people with schizophrenia, such as exacerbation of existing symptoms.\n",
            "During emergencies, people with schizophrenia are more vulnerable than others to various human rights violations, including neglect, abandonment, homelessness, abuse and exclusion.\n",
            "Causes of schizophrenia Research has not identified one single cause of schizophrenia.\n",
            "It is thought that an interaction between genes and a range of environmental factors may cause schizophrenia.\n",
            "Psychosocial factors may also affect the onset and course of schizophrenia.\n",
            "Heavy use of cannabis is associated with an elevated risk of the disorder.\n",
            "Services\n",
            "Currently, the vast majority of people with schizophrenia around the world are not receiving mental health care.\n",
            "Approximately 50% of people in mental hospitals have a schizophrenia diagnosis (4).\n",
            "Only 31.3% of people with psychosis receive specialist mental health care (5).\n",
            "Most resources for mental health services are inefficiently spent on care within mental hospitals.\n",
            "There is clear evidence that mental hospitals are not effective in providing the care that people with mental health conditions need and, regularly, violate the basic human rights of persons with schizophrenia.\n",
            "Efforts to transfer care from mental health institutions to the community need to be expanded and accelerated.\n",
            "Such efforts start with the development of a range of quality community- based mental health services.\n",
            "Options for community-based mental health care include integration in primary health and general hospital care, community mental health centres, day centres, supported housing, and outreach services for home-based support.\n",
            "The engagement of the person with schizophrenia, family members and the wider community in providing support is important.\n",
            "\"\n",
            "CONCISE SUMMARY:\n",
            "\u001b[0m\n"
          ]
        },
        {
          "output_type": "stream",
          "name": "stderr",
          "text": [
            "\n",
            "llama_print_timings:        load time =    4096.18 ms\n",
            "llama_print_timings:      sample time =     154.33 ms /   236 runs   (    0.65 ms per token,  1529.17 tokens per second)\n",
            "llama_print_timings: prompt eval time =  544642.21 ms /  1063 tokens (  512.36 ms per token,     1.95 tokens per second)\n",
            "llama_print_timings:        eval time =  196561.15 ms /   235 runs   (  836.43 ms per token,     1.20 tokens per second)\n",
            "llama_print_timings:       total time =  742898.55 ms /  1298 tokens\n",
            "Llama.generate: prefix-match hit\n"
          ]
        },
        {
          "output_type": "stream",
          "name": "stdout",
          "text": [
            "\n",
            "\u001b[1m> Finished chain.\u001b[0m\n",
            "\n",
            "\n",
            "\u001b[1m> Entering new LLMChain chain...\u001b[0m\n",
            "Prompt after formatting:\n",
            "\u001b[32;1m\u001b[1;3m\n",
            "Write a concise summary of the following text delimited by triple backquotes.\n",
            "Return your response in bullet points which covers the key points of the text.\n",
            "```Schizophrenia is characterized by impairments in perception, delusions, hallucinations, disorganized thinking, behavior, and emotions. It affects approximately 1 in 300 people worldwide, with onset during late adolescence to twenties. People with schizophrenia experience significant distress and impairment in various areas of life. Schizophrenia is not as common as other mental disorders but is associated with higher mortality rates due to physical illnesses. The causes of schizophrenia are unclear, but an interaction between genes and environmental factors is thought to play a role. Most people with schizophrenia do not receive mental health care, and efforts to transfer care from mental hospitals to the community need to be expanded. Quality community-based mental health services, including integration in primary health and general hospital care, day centers, supported housing, and outreach services for home-based support, are recommended. Stigma, human rights violations, and limited access to healthcare, education, housing, and employment are common challenges faced by people with schizophrenia during emergencies.```\n",
            "BULLET POINT SUMMARY:\n",
            "\u001b[0m\n"
          ]
        },
        {
          "output_type": "stream",
          "name": "stderr",
          "text": [
            "\n",
            "llama_print_timings:        load time =    4096.18 ms\n",
            "llama_print_timings:      sample time =     168.69 ms /   255 runs   (    0.66 ms per token,  1511.66 tokens per second)\n",
            "llama_print_timings: prompt eval time =  137743.93 ms /   278 tokens (  495.48 ms per token,     2.02 tokens per second)\n",
            "llama_print_timings:        eval time =  203571.80 ms /   254 runs   (  801.46 ms per token,     1.25 tokens per second)\n",
            "llama_print_timings:       total time =  342830.97 ms /   532 tokens\n"
          ]
        },
        {
          "output_type": "stream",
          "name": "stdout",
          "text": [
            "\n",
            "\u001b[1m> Finished chain.\u001b[0m\n",
            "\n",
            "\u001b[1m> Finished chain.\u001b[0m\n"
          ]
        }
      ]
    },
    {
      "cell_type": "code",
      "source": [
        "print (output)"
      ],
      "metadata": {
        "colab": {
          "base_uri": "https://localhost:8080/"
        },
        "id": "-nXYsvskaPmE",
        "outputId": "61af6ea0-481b-43b5-87df-bcbb17d1aa7e"
      },
      "execution_count": 14,
      "outputs": [
        {
          "output_type": "stream",
          "name": "stdout",
          "text": [
            "- Schizophrenia is a mental disorder characterized by impairments in perception, delusions, hallucinations, disorganized thinking, behavior, and emotions.\n",
            "- It affects approximately 1 in 300 people worldwide with onset during late adolescence to twenties.\n",
            "- People with schizophrenia experience significant distress and impairment in various areas of life.\n",
            "- Schizophrenia is not as common as other mental disorders but is associated with higher mortality rates due to physical illnesses.\n",
            "- The causes of schizophrenia are unclear, but an interaction between genes and environmental factors is thought to play a role.\n",
            "- Most people with schizophrenia do not receive mental health care.\n",
            "- Efforts to transfer care from mental hospitals to the community need to be expanded.\n",
            "- Quality community-based mental health services, including integration in primary health and general hospital care, day centers, supported housing, and outreach services for home-based support, are recommended.\n",
            "- Stigma, human rights violations, and limited access to healthcare, education, housing, and employment are common challenges faced by people with schizophrenia during emergencies.\n"
          ]
        }
      ]
    }
  ]
}