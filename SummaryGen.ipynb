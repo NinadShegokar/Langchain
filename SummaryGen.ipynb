{
  "cells": [
    {
      "cell_type": "markdown",
      "metadata": {
        "id": "view-in-github",
        "colab_type": "text"
      },
      "source": [
        "<a href=\"https://colab.research.google.com/github/NinadShegokar/Langchain/blob/main/SummaryGen.ipynb\" target=\"_parent\"><img src=\"https://colab.research.google.com/assets/colab-badge.svg\" alt=\"Open In Colab\"/></a>"
      ]
    },
    {
      "cell_type": "code",
      "execution_count": null,
      "metadata": {
        "id": "NBD2jWnKIRwE"
      },
      "outputs": [],
      "source": [
        "!pip install -U langchain scikit-learn langchain_community tiktoken langchain-openai langchainhub chromadb  sentence-transformers   llama-cpp-python\n",
        "!pip install pypdf dspy-ai fpdf\n",
        "# !CMAKE_ARGS=\"-DLLAMA_CUBLAS=on\" FORCE_CMAKE=1 pip install -qU llama-cpp-python\n",
        "\n",
        "from IPython.display import clear_output\n",
        "clear_output()"
      ]
    },
    {
      "cell_type": "code",
      "execution_count": null,
      "metadata": {
        "id": "fvqbkCDJxhOh"
      },
      "outputs": [],
      "source": [
        "#imports\n",
        "import langchain\n",
        "from torch import cuda, bfloat16\n",
        "from fpdf import FPDF\n",
        "import torch\n",
        "import transformers\n",
        "from transformers import AutoTokenizer\n",
        "from time import time\n",
        "from langchain.llms import HuggingFacePipeline\n",
        "from langchain.document_loaders import TextLoader,PyPDFLoader, DirectoryLoader\n",
        "from langchain.text_splitter import RecursiveCharacterTextSplitter\n",
        "from langchain.embeddings import HuggingFaceEmbeddings\n",
        "from langchain.chains import MapReduceDocumentsChain, ReduceDocumentsChain,ConversationalRetrievalChain,StuffDocumentsChain\n",
        "from langchain.text_splitter import CharacterTextSplitter\n",
        "from langchain.llms import CTransformers\n",
        "from langchain.vectorstores import FAISS\n",
        "from langchain.memory import ConversationBufferMemory\n",
        "from langchain.callbacks.streaming_stdout import StreamingStdOutCallbackHandler\n",
        "from langchain import PromptTemplate, LLMChain"
      ]
    },
    {
      "cell_type": "code",
      "execution_count": null,
      "metadata": {
        "id": "24031GpaQnDq"
      },
      "outputs": [],
      "source": [
        "import locale\n",
        "import dspy\n",
        "def getpreferredencoding(do_setlocale = True):\n",
        "  return \"UTF-8\"\n",
        "locale.getpreferredencoding = getpreferredencoding"
      ]
    },
    {
      "cell_type": "code",
      "execution_count": null,
      "metadata": {
        "colab": {
          "base_uri": "https://localhost:8080/"
        },
        "id": "ufZQ6jjdQpfq",
        "outputId": "eb832099-6fbe-4975-f61b-02dd84a0031b"
      },
      "outputs": [
        {
          "output_type": "stream",
          "name": "stdout",
          "text": [
            "--2024-04-06 05:22:19--  https://huggingface.co/TheBloke/zephyr-7B-beta-GGUF/resolve/main/zephyr-7b-beta.Q4_K_M.gguf\n",
            "Resolving huggingface.co (huggingface.co)... 18.239.50.16, 18.239.50.103, 18.239.50.80, ...\n",
            "Connecting to huggingface.co (huggingface.co)|18.239.50.16|:443... connected.\n",
            "HTTP request sent, awaiting response... 302 Found\n",
            "Location: https://cdn-lfs-us-1.huggingface.co/repos/fe/17/fe17596731f84a0d03bece77489780bc7e068323c0aeca88b6393d3e9e65dd49/503580dce392c6e64669ad21a77023ba2a17baa0c381250fb67c11ba6406a85e?response-content-disposition=attachment%3B+filename*%3DUTF-8%27%27zephyr-7b-beta.Q4_K_M.gguf%3B+filename%3D%22zephyr-7b-beta.Q4_K_M.gguf%22%3B&Expires=1712640139&Policy=eyJTdGF0ZW1lbnQiOlt7IkNvbmRpdGlvbiI6eyJEYXRlTGVzc1RoYW4iOnsiQVdTOkVwb2NoVGltZSI6MTcxMjY0MDEzOX19LCJSZXNvdXJjZSI6Imh0dHBzOi8vY2RuLWxmcy11cy0xLmh1Z2dpbmdmYWNlLmNvL3JlcG9zL2ZlLzE3L2ZlMTc1OTY3MzFmODRhMGQwM2JlY2U3NzQ4OTc4MGJjN2UwNjgzMjNjMGFlY2E4OGI2MzkzZDNlOWU2NWRkNDkvNTAzNTgwZGNlMzkyYzZlNjQ2NjlhZDIxYTc3MDIzYmEyYTE3YmFhMGMzODEyNTBmYjY3YzExYmE2NDA2YTg1ZT9yZXNwb25zZS1jb250ZW50LWRpc3Bvc2l0aW9uPSoifV19&Signature=R0hnQeWx5pP5efLzQ10TYMuSYPvA2%7En0zDNOwTalbpkiHrwT43AzjgAwmlcpU4blOROCnqjAaL45PN7lcRQGQRqlfIQGzDzI3%7Eqx%7EEAaoTOS8MXKstmrplx9RcQ1y18axhZHVOWv1c0lul6v123Cqf%7EwvyqhayLdZGSf-RbpsIfKsAHtSNbM7b5a18xevdZPlbKayb2I4uVZyXJUxauANDm%7E-pxIX6rQh1BiTog6O9%7EXQzY-TBFlBM5PbXiwyQnRgPJzen-vDi1bR6-6kX31ygSzC1sxz8-XP1VviQr0rQp9B9sZ5Ve9kDeiEA9j9NUKEP7ZQzm-4erpIcLQ7iZosw__&Key-Pair-Id=KCD77M1F0VK2B [following]\n",
            "--2024-04-06 05:22:19--  https://cdn-lfs-us-1.huggingface.co/repos/fe/17/fe17596731f84a0d03bece77489780bc7e068323c0aeca88b6393d3e9e65dd49/503580dce392c6e64669ad21a77023ba2a17baa0c381250fb67c11ba6406a85e?response-content-disposition=attachment%3B+filename*%3DUTF-8%27%27zephyr-7b-beta.Q4_K_M.gguf%3B+filename%3D%22zephyr-7b-beta.Q4_K_M.gguf%22%3B&Expires=1712640139&Policy=eyJTdGF0ZW1lbnQiOlt7IkNvbmRpdGlvbiI6eyJEYXRlTGVzc1RoYW4iOnsiQVdTOkVwb2NoVGltZSI6MTcxMjY0MDEzOX19LCJSZXNvdXJjZSI6Imh0dHBzOi8vY2RuLWxmcy11cy0xLmh1Z2dpbmdmYWNlLmNvL3JlcG9zL2ZlLzE3L2ZlMTc1OTY3MzFmODRhMGQwM2JlY2U3NzQ4OTc4MGJjN2UwNjgzMjNjMGFlY2E4OGI2MzkzZDNlOWU2NWRkNDkvNTAzNTgwZGNlMzkyYzZlNjQ2NjlhZDIxYTc3MDIzYmEyYTE3YmFhMGMzODEyNTBmYjY3YzExYmE2NDA2YTg1ZT9yZXNwb25zZS1jb250ZW50LWRpc3Bvc2l0aW9uPSoifV19&Signature=R0hnQeWx5pP5efLzQ10TYMuSYPvA2%7En0zDNOwTalbpkiHrwT43AzjgAwmlcpU4blOROCnqjAaL45PN7lcRQGQRqlfIQGzDzI3%7Eqx%7EEAaoTOS8MXKstmrplx9RcQ1y18axhZHVOWv1c0lul6v123Cqf%7EwvyqhayLdZGSf-RbpsIfKsAHtSNbM7b5a18xevdZPlbKayb2I4uVZyXJUxauANDm%7E-pxIX6rQh1BiTog6O9%7EXQzY-TBFlBM5PbXiwyQnRgPJzen-vDi1bR6-6kX31ygSzC1sxz8-XP1VviQr0rQp9B9sZ5Ve9kDeiEA9j9NUKEP7ZQzm-4erpIcLQ7iZosw__&Key-Pair-Id=KCD77M1F0VK2B\n",
            "Resolving cdn-lfs-us-1.huggingface.co (cdn-lfs-us-1.huggingface.co)... 18.239.94.40, 18.239.94.84, 18.239.94.3, ...\n",
            "Connecting to cdn-lfs-us-1.huggingface.co (cdn-lfs-us-1.huggingface.co)|18.239.94.40|:443... connected.\n",
            "HTTP request sent, awaiting response... 200 OK\n",
            "Length: 4368438976 (4.1G) [binary/octet-stream]\n",
            "Saving to: ‘zephyr-7b-beta.Q4_K_M.gguf’\n",
            "\n",
            "zephyr-7b-beta.Q4_K 100%[===================>]   4.07G   148MB/s    in 27s     \n",
            "\n",
            "2024-04-06 05:22:46 (156 MB/s) - ‘zephyr-7b-beta.Q4_K_M.gguf’ saved [4368438976/4368438976]\n",
            "\n"
          ]
        }
      ],
      "source": [
        "!wget \"https://huggingface.co/TheBloke/zephyr-7B-beta-GGUF/resolve/main/zephyr-7b-beta.Q4_K_M.gguf\""
      ]
    },
    {
      "cell_type": "code",
      "execution_count": null,
      "metadata": {
        "colab": {
          "base_uri": "https://localhost:8080/"
        },
        "id": "a_XUGrkWQs9Z",
        "outputId": "69e64c3c-5ff4-4600-cfa6-340a02fdb3be"
      },
      "outputs": [
        {
          "output_type": "stream",
          "name": "stderr",
          "text": [
            "llama_model_loader: loaded meta data with 21 key-value pairs and 291 tensors from /content/zephyr-7b-beta.Q4_K_M.gguf (version GGUF V3 (latest))\n",
            "llama_model_loader: Dumping metadata keys/values. Note: KV overrides do not apply in this output.\n",
            "llama_model_loader: - kv   0:                       general.architecture str              = llama\n",
            "llama_model_loader: - kv   1:                               general.name str              = huggingfaceh4_zephyr-7b-beta\n",
            "llama_model_loader: - kv   2:                       llama.context_length u32              = 32768\n",
            "llama_model_loader: - kv   3:                     llama.embedding_length u32              = 4096\n",
            "llama_model_loader: - kv   4:                          llama.block_count u32              = 32\n",
            "llama_model_loader: - kv   5:                  llama.feed_forward_length u32              = 14336\n",
            "llama_model_loader: - kv   6:                 llama.rope.dimension_count u32              = 128\n",
            "llama_model_loader: - kv   7:                 llama.attention.head_count u32              = 32\n",
            "llama_model_loader: - kv   8:              llama.attention.head_count_kv u32              = 8\n",
            "llama_model_loader: - kv   9:     llama.attention.layer_norm_rms_epsilon f32              = 0.000010\n",
            "llama_model_loader: - kv  10:                       llama.rope.freq_base f32              = 10000.000000\n",
            "llama_model_loader: - kv  11:                          general.file_type u32              = 15\n",
            "llama_model_loader: - kv  12:                       tokenizer.ggml.model str              = llama\n",
            "llama_model_loader: - kv  13:                      tokenizer.ggml.tokens arr[str,32000]   = [\"<unk>\", \"<s>\", \"</s>\", \"<0x00>\", \"<...\n",
            "llama_model_loader: - kv  14:                      tokenizer.ggml.scores arr[f32,32000]   = [0.000000, 0.000000, 0.000000, 0.0000...\n",
            "llama_model_loader: - kv  15:                  tokenizer.ggml.token_type arr[i32,32000]   = [2, 3, 3, 6, 6, 6, 6, 6, 6, 6, 6, 6, ...\n",
            "llama_model_loader: - kv  16:                tokenizer.ggml.bos_token_id u32              = 1\n",
            "llama_model_loader: - kv  17:                tokenizer.ggml.eos_token_id u32              = 2\n",
            "llama_model_loader: - kv  18:            tokenizer.ggml.unknown_token_id u32              = 0\n",
            "llama_model_loader: - kv  19:            tokenizer.ggml.padding_token_id u32              = 2\n",
            "llama_model_loader: - kv  20:               general.quantization_version u32              = 2\n",
            "llama_model_loader: - type  f32:   65 tensors\n",
            "llama_model_loader: - type q4_K:  193 tensors\n",
            "llama_model_loader: - type q6_K:   33 tensors\n",
            "llm_load_vocab: special tokens definition check successful ( 259/32000 ).\n",
            "llm_load_print_meta: format           = GGUF V3 (latest)\n",
            "llm_load_print_meta: arch             = llama\n",
            "llm_load_print_meta: vocab type       = SPM\n",
            "llm_load_print_meta: n_vocab          = 32000\n",
            "llm_load_print_meta: n_merges         = 0\n",
            "llm_load_print_meta: n_ctx_train      = 32768\n",
            "llm_load_print_meta: n_embd           = 4096\n",
            "llm_load_print_meta: n_head           = 32\n",
            "llm_load_print_meta: n_head_kv        = 8\n",
            "llm_load_print_meta: n_layer          = 32\n",
            "llm_load_print_meta: n_rot            = 128\n",
            "llm_load_print_meta: n_embd_head_k    = 128\n",
            "llm_load_print_meta: n_embd_head_v    = 128\n",
            "llm_load_print_meta: n_gqa            = 4\n",
            "llm_load_print_meta: n_embd_k_gqa     = 1024\n",
            "llm_load_print_meta: n_embd_v_gqa     = 1024\n",
            "llm_load_print_meta: f_norm_eps       = 0.0e+00\n",
            "llm_load_print_meta: f_norm_rms_eps   = 1.0e-05\n",
            "llm_load_print_meta: f_clamp_kqv      = 0.0e+00\n",
            "llm_load_print_meta: f_max_alibi_bias = 0.0e+00\n",
            "llm_load_print_meta: f_logit_scale    = 0.0e+00\n",
            "llm_load_print_meta: n_ff             = 14336\n",
            "llm_load_print_meta: n_expert         = 0\n",
            "llm_load_print_meta: n_expert_used    = 0\n",
            "llm_load_print_meta: causal attn      = 1\n",
            "llm_load_print_meta: pooling type     = 0\n",
            "llm_load_print_meta: rope type        = 0\n",
            "llm_load_print_meta: rope scaling     = linear\n",
            "llm_load_print_meta: freq_base_train  = 10000.0\n",
            "llm_load_print_meta: freq_scale_train = 1\n",
            "llm_load_print_meta: n_yarn_orig_ctx  = 32768\n",
            "llm_load_print_meta: rope_finetuned   = unknown\n",
            "llm_load_print_meta: ssm_d_conv       = 0\n",
            "llm_load_print_meta: ssm_d_inner      = 0\n",
            "llm_load_print_meta: ssm_d_state      = 0\n",
            "llm_load_print_meta: ssm_dt_rank      = 0\n",
            "llm_load_print_meta: model type       = 7B\n",
            "llm_load_print_meta: model ftype      = Q4_K - Medium\n",
            "llm_load_print_meta: model params     = 7.24 B\n",
            "llm_load_print_meta: model size       = 4.07 GiB (4.83 BPW) \n",
            "llm_load_print_meta: general.name     = huggingfaceh4_zephyr-7b-beta\n",
            "llm_load_print_meta: BOS token        = 1 '<s>'\n",
            "llm_load_print_meta: EOS token        = 2 '</s>'\n",
            "llm_load_print_meta: UNK token        = 0 '<unk>'\n",
            "llm_load_print_meta: PAD token        = 2 '</s>'\n",
            "llm_load_print_meta: LF token         = 13 '<0x0A>'\n",
            "llm_load_tensors: ggml ctx size =    0.11 MiB\n",
            "llm_load_tensors:        CPU buffer size =  4165.37 MiB\n",
            ".................................................................................................\n",
            "llama_new_context_with_model: n_ctx      = 35008\n",
            "llama_new_context_with_model: n_batch    = 8\n",
            "llama_new_context_with_model: n_ubatch   = 8\n",
            "llama_new_context_with_model: freq_base  = 10000.0\n",
            "llama_new_context_with_model: freq_scale = 1\n",
            "llama_kv_cache_init:        CPU KV buffer size =  4376.00 MiB\n",
            "llama_new_context_with_model: KV self size  = 4376.00 MiB, K (f16): 2188.00 MiB, V (f16): 2188.00 MiB\n",
            "llama_new_context_with_model:        CPU  output buffer size =     0.12 MiB\n",
            "llama_new_context_with_model:        CPU compute buffer size =    35.76 MiB\n",
            "llama_new_context_with_model: graph nodes  = 1030\n",
            "llama_new_context_with_model: graph splits = 1\n",
            "AVX = 1 | AVX_VNNI = 0 | AVX2 = 1 | AVX512 = 1 | AVX512_VBMI = 0 | AVX512_VNNI = 0 | FMA = 1 | NEON = 0 | ARM_FMA = 0 | F16C = 1 | FP16_VA = 0 | WASM_SIMD = 0 | BLAS = 0 | SSE3 = 1 | SSSE3 = 1 | VSX = 0 | MATMUL_INT8 = 0 | \n",
            "Model metadata: {'tokenizer.ggml.padding_token_id': '2', 'tokenizer.ggml.unknown_token_id': '0', 'tokenizer.ggml.eos_token_id': '2', 'general.architecture': 'llama', 'llama.rope.freq_base': '10000.000000', 'llama.context_length': '32768', 'general.name': 'huggingfaceh4_zephyr-7b-beta', 'llama.embedding_length': '4096', 'llama.feed_forward_length': '14336', 'llama.attention.layer_norm_rms_epsilon': '0.000010', 'llama.rope.dimension_count': '128', 'tokenizer.ggml.bos_token_id': '1', 'llama.attention.head_count': '32', 'llama.block_count': '32', 'llama.attention.head_count_kv': '8', 'general.quantization_version': '2', 'tokenizer.ggml.model': 'llama', 'general.file_type': '15'}\n",
            "Using fallback chat format: None\n",
            "/usr/local/lib/python3.10/dist-packages/huggingface_hub/utils/_token.py:88: UserWarning: \n",
            "The secret `HF_TOKEN` does not exist in your Colab secrets.\n",
            "To authenticate with the Hugging Face Hub, create a token in your settings tab (https://huggingface.co/settings/tokens), set it as secret in your Google Colab and restart your session.\n",
            "You will be able to reuse this secret in all of your notebooks.\n",
            "Please note that authentication is recommended but still optional to access public models or datasets.\n",
            "  warnings.warn(\n"
          ]
        }
      ],
      "source": [
        "from langchain_community.llms import LlamaCpp\n",
        "from langchain_core.callbacks import CallbackManager, StreamingStdOutCallbackHandler\n",
        "from langchain_core.prompts import PromptTemplate\n",
        "# #\n",
        "# n_gpu_layers = -1  # The number of layers to put on the GPU. The rest will be on the CPU. If you don't know how many layers there are, you can use -1 to move all to GPU.\n",
        "# n_batch = 512  # Should be between 1 and n_ctx, consider the amount of VRAM in your GPU.\n",
        "#\n",
        "# Callbacks support token-wise streaming\n",
        "callback_manager = CallbackManager([StreamingStdOutCallbackHandler()])\n",
        "#\n",
        "# Make sure the model path is correct for your system!\n",
        "llm = LlamaCpp(\n",
        "    model_path=\"/content/zephyr-7b-beta.Q4_K_M.gguf\",\n",
        "    temperature=0.75,\n",
        "    max_tokens=1000,\n",
        "    top_p=1,\n",
        "    n_ctx=35000,\n",
        "    callback_manager=callback_manager,\n",
        "    verbose=True,  # Verbose is required to pass to the callback manager\n",
        ")\n",
        "from langchain.vectorstores import Chroma\n",
        "from langchain_community.embeddings import HuggingFaceEmbeddings\n",
        "from langchain_community.vectorstores.utils import DistanceStrategy\n",
        "#\n",
        "EMBEDDING_MODEL_NAME = \"thenlper/gte-small\"\n",
        "\n",
        "embd = HuggingFaceEmbeddings(\n",
        "    model_name=EMBEDDING_MODEL_NAME\n",
        ")\n",
        "\n"
      ]
    },
    {
      "cell_type": "code",
      "execution_count": null,
      "metadata": {
        "id": "YHnXfjewxcqg"
      },
      "outputs": [],
      "source": [
        "#load the pdf files from the path\n",
        "loader = PyPDFLoader(r'/content/Schizophrenia.pdf')\n",
        "docs = loader.load()\n"
      ]
    },
    {
      "cell_type": "code",
      "execution_count": null,
      "metadata": {
        "id": "4swtWqVjxRbJ"
      },
      "outputs": [],
      "source": [
        "def summary_generation(file_path):\n",
        "    # Map\n",
        "    loader = PyPDFLoader(file_path)\n",
        "    docs = loader.load()\n",
        "    map_template = \"\"\"The following is a set of documents\n",
        "    {docs}\n",
        "    Based on this list of docs, please identify the main themes and concepts\n",
        "    Prepare a concise summary in the form of bullet points\n",
        "    Helpful Answer:\"\"\"\n",
        "    map_prompt = PromptTemplate.from_template(map_template)\n",
        "    map_chain = LLMChain(llm=llm, prompt=map_prompt)\n",
        "    # Reduce\n",
        "    reduce_template = \"\"\"The following is set of summaries:\n",
        "    {docs}\n",
        "    Based on this list of docs, please identify the main themes and concepts\n",
        "    Prepare a concise summary in the form of bullet points.\n",
        "    Helpful Answer:\"\"\"\n",
        "    reduce_prompt = PromptTemplate.from_template(reduce_template)\n",
        "        # Run chain\n",
        "    reduce_chain = LLMChain(llm=llm, prompt=reduce_prompt)\n",
        "\n",
        "    # Takes a list of documents, combines them into a single string, and passes this to an LLMChain\n",
        "    combine_documents_chain = StuffDocumentsChain(\n",
        "        llm_chain=reduce_chain, document_variable_name=\"docs\"\n",
        "    )\n",
        "\n",
        "    # Combines and iteravely reduces the mapped documents\n",
        "    reduce_documents_chain = ReduceDocumentsChain(\n",
        "        # This is final chain that is called.\n",
        "        combine_documents_chain=combine_documents_chain,\n",
        "        # If documents exceed context for `StuffDocumentsChain`\n",
        "        collapse_documents_chain=combine_documents_chain,\n",
        "        # The maximum number of tokens to group documents into.\n",
        "        token_max=4000,\n",
        "    )\n",
        "        # Combining documents by mapping a chain over them, then combining results\n",
        "    map_reduce_chain = MapReduceDocumentsChain(\n",
        "        # Map chain\n",
        "        llm_chain=map_chain,\n",
        "        # Reduce chain\n",
        "        reduce_documents_chain=reduce_documents_chain,\n",
        "        # The variable name in the llm_chain to put the documents in\n",
        "        document_variable_name=\"docs\",\n",
        "        # Return the results of the map steps in the output\n",
        "        return_intermediate_steps=False,\n",
        "    )\n",
        "\n",
        "    text_splitter = CharacterTextSplitter.from_tiktoken_encoder(\n",
        "        chunk_size=1000, chunk_overlap=100\n",
        "    )\n",
        "    split_docs = text_splitter.split_documents(docs)\n",
        "    all_summaries=map_reduce_chain.run(split_docs)\n",
        "    print(all_summaries)\n"
      ]
    },
    {
      "cell_type": "code",
      "execution_count": null,
      "metadata": {
        "colab": {
          "base_uri": "https://localhost:8080/"
        },
        "id": "BbYYl2crxr8i",
        "outputId": "b8cf8a54-c122-47e4-9c8d-467d571704c4"
      },
      "outputs": [
        {
          "output_type": "stream",
          "name": "stderr",
          "text": [
            "/usr/local/lib/python3.10/dist-packages/langchain_core/_api/deprecation.py:117: LangChainDeprecationWarning: The function `run` was deprecated in LangChain 0.1.0 and will be removed in 0.2.0. Use invoke instead.\n",
            "  warn_deprecated(\n"
          ]
        },
        {
          "output_type": "stream",
          "name": "stdout",
          "text": [
            "\n",
            "    - Definition and symptoms of schizophrenia, including positive symptoms (delusions, hallucinations, disorganized thinking, behavioral changes), negative symptoms (lack of emotion, social withdrawal), and cognitive impairments.\n",
            "    - Prevalence and risk factors, such as male gender and earlier onset in males compared to females, genetic and environmental influences (including childhood adversity, cannabis use during adolescence, infectious diseases, parental age, prenatal nutrition).\n",
            "    - Outcomes for individuals diagnosed with schizophrenia, including the percentage of people who experience significant improvement versus long-term impairment. Risks associated with schizophrenia include suicide rates and decreased life expectancy due to physical health problems.\n",
            "    - Treatment options, such as antipsychotic medication, counseling, job training, social rehabilitation, and clozapine for treatment-resistant cases. Involuntary hospitalization may be necessary in situations where there is a risk of harm. Long-term hospitalization is less common with the availability of supportive services.\n",
            "    - References: (1) Marder, Michael R., et al. \"The course of schizophrenia.\" The Lancet Psychiatry, vol. 7, no. 2, Feb. 2020, pp. 138-146., doi:10.1016/s2215-019-0171-x."
          ]
        },
        {
          "output_type": "stream",
          "name": "stderr",
          "text": [
            "\n",
            "llama_print_timings:        load time =    3371.63 ms\n",
            "llama_print_timings:      sample time =     187.13 ms /   327 runs   (    0.57 ms per token,  1747.42 tokens per second)\n",
            "llama_print_timings: prompt eval time =  423977.31 ms /   952 tokens (  445.35 ms per token,     2.25 tokens per second)\n",
            "llama_print_timings:        eval time =  210111.11 ms /   326 runs   (  644.51 ms per token,     1.55 tokens per second)\n",
            "llama_print_timings:       total time =  636404.46 ms /  1278 tokens\n",
            "Llama.generate: prefix-match hit\n"
          ]
        },
        {
          "output_type": "stream",
          "name": "stdout",
          "text": [
            "\n",
            "    - Magnitude and impact of schizophrenia: \n",
            "      - Approx. 24 million people affected worldwide (1 in 300)\n",
            "      - Onset during late adolescence and twenties, earlier in men than women\n",
            "      - Significant distress and impairment in personal, family, social, educational, occupational, and other important areas of life\n",
            "      - 2-3 times more likely to die early than the general population (often due to physical illnesses)\n",
            "    - Causes of schizophrenia:\n",
            "      - Interaction between genes and environmental factors\n",
            "      - Psychosocial factors may affect onset and course\n",
            "      - Heavy use of cannabis associated with elevated risk\n",
            "    - Services for people with schizophrenia:\n",
            "      - Majority not receiving mental health care (50% in mental hospitals)\n",
            "      - 31.3% receive specialist mental health care\n",
            "      - Mental hospitals violate basic human rights of people with schizophrenia and are not effective\n",
            "      - Efforts to transfer care to community needed, including integration in primary health and general hospital care, community mental health centers, day centers, supportive housing, and outreach services for home-based support. Engaging person with schizophrenia, family members, and wider community in providing support is important.\n",
            "    - Human rights violations: \n",
            "      - Stigma against people with schizophrenia causing social exclusion and discrimination limiting access to general health care, education, housing, and employment\n",
            "      - During emergencies, people with schizophrenia more vulnerable to neglect, abandonment, homelessness, abuse, and exclusion. Extreme stress, fear, breakdown of social supports, isolation, and disruption of healthcare services and supply of medication can occur during emergencies exacerbating existing symptoms."
          ]
        },
        {
          "output_type": "stream",
          "name": "stderr",
          "text": [
            "\n",
            "llama_print_timings:        load time =    3371.63 ms\n",
            "llama_print_timings:      sample time =     221.59 ms /   401 runs   (    0.55 ms per token,  1809.65 tokens per second)\n",
            "llama_print_timings: prompt eval time =  358483.48 ms /   807 tokens (  444.22 ms per token,     2.25 tokens per second)\n",
            "llama_print_timings:        eval time =  257249.77 ms /   400 runs   (  643.12 ms per token,     1.55 tokens per second)\n",
            "llama_print_timings:       total time =  618543.68 ms /  1207 tokens\n",
            "Llama.generate: prefix-match hit\n"
          ]
        },
        {
          "output_type": "stream",
          "name": "stdout",
          "text": [
            "\n",
            "    \n",
            "- Definition and symptoms:\n",
            "  - Schizophrenia is a mental disorder characterized by positive symptoms (delusions, hallucinations, disorganized thinking, behavioral changes), negative symptoms (lack of emotion, social withdrawal), and cognitive impairments.\n",
            "  - Prevalence: approximately 24 million people worldwide are affected (1 in 300).\n",
            "  - Risk factors: male gender, earlier onset in males compared to females, genetic and environmental influences including childhood adversity, cannabis use during adolescence, infectious diseases, parental age, prenatal nutrition.\n",
            "- Outcomes:\n",
            "  - Significant distress and impairment in various areas of life for individuals diagnosed with schizophrenia.\n",
            "  - Suicide rates are higher among people with schizophrenia compared to the general population.\n",
            "  - Decreased life expectancy due to physical health problems is also common among people with schizophrenia.\n",
            "- Treatment:\n",
            "  - Antipsychotic medication, counseling, job training, social rehabilitation, and clozapine for treatment-resistant cases.\n",
            "  - Involuntary hospitalization may be necessary in situations where there is a risk of harm.\n",
            "  - Long-term hospitalization is less common with the availability of supportive services.\n",
            "- Services for people with schizophrenia:\n",
            "  - Majority not receiving mental health care (50% in mental hospitals).\n",
            "  - Mental hospitals violate basic human rights of people with schizophrenia and are not effective.\n",
            "  - Efforts to transfer care to community needed, including integration in primary health and general hospital care, community mental health centers, day centers, supportive housing, and outreach services for home-based support.\n",
            "- Human rights violations:\n",
            "  - Stigma against people with schizophrenia causing social exclusion and discrimination limiting access to general health care, education, housing, and employment.\n",
            "  - During emergencies, people with schizophrenia are more vulnerable to neglect, abandonment, homelessness, abuse, and exclusion. Extreme stress, fear, breakdown of social supports, isolation, and disruption of healthcare services and supply of medication can occur during emergencies exacerbating existing symptoms."
          ]
        },
        {
          "output_type": "stream",
          "name": "stderr",
          "text": [
            "\n",
            "llama_print_timings:        load time =    3371.63 ms\n",
            "llama_print_timings:      sample time =     279.43 ms /   494 runs   (    0.57 ms per token,  1767.88 tokens per second)\n",
            "llama_print_timings: prompt eval time =  347201.68 ms /   773 tokens (  449.16 ms per token,     2.23 tokens per second)\n",
            "llama_print_timings:        eval time =  316783.32 ms /   493 runs   (  642.56 ms per token,     1.56 tokens per second)\n",
            "llama_print_timings:       total time =  667448.33 ms /  1266 tokens\n"
          ]
        },
        {
          "output_type": "stream",
          "name": "stdout",
          "text": [
            "\n",
            "    \n",
            "- Definition and symptoms:\n",
            "  - Schizophrenia is a mental disorder characterized by positive symptoms (delusions, hallucinations, disorganized thinking, behavioral changes), negative symptoms (lack of emotion, social withdrawal), and cognitive impairments.\n",
            "  - Prevalence: approximately 24 million people worldwide are affected (1 in 300).\n",
            "  - Risk factors: male gender, earlier onset in males compared to females, genetic and environmental influences including childhood adversity, cannabis use during adolescence, infectious diseases, parental age, prenatal nutrition.\n",
            "- Outcomes:\n",
            "  - Significant distress and impairment in various areas of life for individuals diagnosed with schizophrenia.\n",
            "  - Suicide rates are higher among people with schizophrenia compared to the general population.\n",
            "  - Decreased life expectancy due to physical health problems is also common among people with schizophrenia.\n",
            "- Treatment:\n",
            "  - Antipsychotic medication, counseling, job training, social rehabilitation, and clozapine for treatment-resistant cases.\n",
            "  - Involuntary hospitalization may be necessary in situations where there is a risk of harm.\n",
            "  - Long-term hospitalization is less common with the availability of supportive services.\n",
            "- Services for people with schizophrenia:\n",
            "  - Majority not receiving mental health care (50% in mental hospitals).\n",
            "  - Mental hospitals violate basic human rights of people with schizophrenia and are not effective.\n",
            "  - Efforts to transfer care to community needed, including integration in primary health and general hospital care, community mental health centers, day centers, supportive housing, and outreach services for home-based support.\n",
            "- Human rights violations:\n",
            "  - Stigma against people with schizophrenia causing social exclusion and discrimination limiting access to general health care, education, housing, and employment.\n",
            "  - During emergencies, people with schizophrenia are more vulnerable to neglect, abandonment, homelessness, abuse, and exclusion. Extreme stress, fear, breakdown of social supports, isolation, and disruption of healthcare services and supply of medication can occur during emergencies exacerbating existing symptoms.\n"
          ]
        }
      ],
      "source": [
        "all=summary_generation(r'/content/Schizophrenia.pdf')"
      ]
    }
  ],
  "metadata": {
    "accelerator": "GPU",
    "colab": {
      "gpuType": "T4",
      "provenance": [],
      "include_colab_link": true
    },
    "kernelspec": {
      "display_name": "Python 3",
      "name": "python3"
    },
    "language_info": {
      "name": "python"
    }
  },
  "nbformat": 4,
  "nbformat_minor": 0
}